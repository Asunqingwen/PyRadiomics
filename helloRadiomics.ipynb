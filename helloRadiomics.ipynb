{
 "cells": [
  {
   "cell_type": "markdown",
   "metadata": {},
   "source": [
    "# Hello Radiomics example: using the feature extractor to calculate features"
   ]
  },
  {
   "cell_type": "markdown",
   "metadata": {},
   "source": [
    "This example shows how to use the radiomics package and the feature extractor.\n",
    "The feature extractor handles preprocessing, and then calls the needed featureclasses to calculate the features.\n",
    "It is also possible to directly instantiate the feature classes. However, this is not recommended for use outside debugging or development. For more information, see `helloFeatureClass`."
   ]
  },
  {
   "cell_type": "code",
   "execution_count": 2,
   "metadata": {},
   "outputs": [],
   "source": [
    "from __future__ import print_function\n",
    "import sys\n",
    "import os\n",
    "import logging\n",
    "import six\n",
    "from radiomics import featureextractor, getFeatureClasses\n",
    "import radiomics"
   ]
  },
  {
   "cell_type": "code",
   "execution_count": null,
   "metadata": {},
   "outputs": [],
   "source": []
  },
  {
   "cell_type": "code",
   "execution_count": null,
   "metadata": {},
   "outputs": [],
   "source": []
  },
  {
   "cell_type": "markdown",
   "metadata": {},
   "source": [
    "## Setting up logging"
   ]
  },
  {
   "cell_type": "markdown",
   "metadata": {},
   "source": [
    "Regulate verbosity of PyRadiomics (outputs to stderr)"
   ]
  },
  {
   "cell_type": "code",
   "execution_count": 13,
   "metadata": {},
   "outputs": [],
   "source": [
    "# Regulate verbosity with radiomics.setVerbosity\n",
    "# radiomics.setVerbosity(logging.INFO)  # Use logging.DEBUG for maximum output, default verbosity level = WARNING"
   ]
  },
  {
   "cell_type": "markdown",
   "metadata": {},
   "source": [
    "Set up logging to a log file"
   ]
  },
  {
   "cell_type": "code",
   "execution_count": 3,
   "metadata": {},
   "outputs": [],
   "source": [
    "# Get the PyRadiomics logger (default log-level = INFO)\n",
    "logger = radiomics.logger\n",
    "logger.setLevel(logging.DEBUG)  # set level to DEBUG to include debug log messages in log file\n",
    "\n",
    "# Write out all log entries to a file\n",
    "handler = logging.FileHandler(filename='testLog.txt', mode='w')\n",
    "formatter = logging.Formatter('%(levelname)s:%(name)s: %(message)s')\n",
    "handler.setFormatter(formatter)\n",
    "logger.addHandler(handler)"
   ]
  },
  {
   "cell_type": "markdown",
   "metadata": {},
   "source": [
    "## Getting the testcase"
   ]
  },
  {
   "cell_type": "markdown",
   "metadata": {},
   "source": [
    "Test cases can be downloaded to temporary files. This is handled by the `radiomics.getTestCase()` function, which checks if the requested test case is available and if not, downloads it. It returns a tuple with the location of the image and mask of the requested test case, or (None, None) if it fails.\n",
    "\n",
    "Alternatively, if the data is available somewhere locally, this directory can be passed as a second argument to `radiomics.getTestCase()`. If that directory does not exist or does not contain the testcase, functionality reverts to default and tries to download the test data.\n",
    "\n",
    "If getting the test case fails, PyRadiomics will log an error explaining the cause."
   ]
  },
  {
   "cell_type": "code",
   "execution_count": 4,
   "metadata": {},
   "outputs": [],
   "source": [
    "featureClasses = getFeatureClasses()\n",
    "imageName, maskName = radiomics.getTestCase('brain1')\n",
    "\n",
    "if imageName is None or maskName is None:  # Something went wrong, in this case PyRadiomics will also log an error\n",
    "    raise Exception('Error getting testcase!')  # Raise exception to prevent cells below from running in case of \"run all\""
   ]
  },
  {
   "cell_type": "markdown",
   "metadata": {},
   "source": [
    "## Initializing the feature extractor"
   ]
  },
  {
   "cell_type": "markdown",
   "metadata": {},
   "source": [
    "#### Extraction Settings"
   ]
  },
  {
   "cell_type": "code",
   "execution_count": 16,
   "metadata": {},
   "outputs": [],
   "source": [
    "# Use a parameter file, this customizes the extraction settings and also specifies the input image types to use and which features should be extracted\n",
    "params = os.path.join('..', 'examples', 'exampleSettings', 'Params.yaml')\n",
    "\n",
    "extractor = featureextractor.RadiomicsFeatureExtractor(params)"
   ]
  },
  {
   "cell_type": "code",
   "execution_count": 17,
   "metadata": {},
   "outputs": [],
   "source": [
    "# Alternative: use hardcoded settings (separate for settings, input image types and enabled features)\n",
    "settings = {}\n",
    "settings['binWidth'] = 25\n",
    "settings['resampledPixelSpacing'] = None\n",
    "# settings['resampledPixelSpacing'] = [3, 3, 3]  # This is an example for defining resampling (voxels with size 3x3x3mm)\n",
    "settings['interpolator'] = 'sitkBSpline'\n",
    "settings['verbose'] = True\n",
    "\n",
    "extractor = featureextractor.RadiomicsFeatureExtractor(**settings)"
   ]
  },
  {
   "cell_type": "markdown",
   "metadata": {},
   "source": [
    "#### Input images: applying filters"
   ]
  },
  {
   "cell_type": "code",
   "execution_count": 18,
   "metadata": {},
   "outputs": [
    {
     "name": "stdout",
     "output_type": "stream",
     "text": [
      "Enabled input images:\n",
      "\tOriginal\n"
     ]
    }
   ],
   "source": [
    "# By default, only 'Original' (no filter applied) is enabled. Optionally enable some image types:\n",
    "\n",
    "# extractor.enableImageTypeByName('Wavelet')\n",
    "# extractor.enableImageTypeByName('LoG', customArgs={'sigma':[3.0]})\n",
    "# extractor.enableImageTypeByName('Square')\n",
    "# extractor.enableImageTypeByName('SquareRoot')\n",
    "# extractor.enableImageTypeByName('Exponential')\n",
    "# extractor.enableImageTypeByName('Logarithm')\n",
    "\n",
    "# Alternative; set filters in one operation \n",
    "# This updates current enabled image types, i.e. overwrites custom settings specified per filter. \n",
    "# However, image types already enabled, but not passed in this call, are not disabled or altered.\n",
    "\n",
    "# extractor.enableImageTypes(Wavelet={}, LoG={'sigma':[3.0]})\n",
    "\n",
    "print('Enabled input images:')\n",
    "for imageType in extractor.enabledImagetypes.keys():\n",
    "    print('\\t' + imageType)"
   ]
  },
  {
   "cell_type": "markdown",
   "metadata": {},
   "source": [
    "#### Feature classes: setting which feature(classes) need to be calculated"
   ]
  },
  {
   "cell_type": "code",
   "execution_count": 19,
   "metadata": {},
   "outputs": [],
   "source": [
    "# Disable all classes\n",
    "extractor.disableAllFeatures()\n",
    "\n",
    "# Enable all features in firstorder\n",
    "extractor.enableFeatureClassByName('firstorder')\n",
    "\n",
    "# Alternative; only enable 'Mean' and 'Skewness' features in firstorder\n",
    "# extractor.enableFeaturesByName(firstorder=['Mean', 'Skewness'])"
   ]
  },
  {
   "cell_type": "markdown",
   "metadata": {},
   "source": [
    "## Getting the docstrings of the active features"
   ]
  },
  {
   "cell_type": "code",
   "execution_count": 1,
   "metadata": {},
   "outputs": [
    {
     "name": "stdout",
     "output_type": "stream",
     "text": [
      "Active features:\n"
     ]
    },
    {
     "ename": "NameError",
     "evalue": "name 'six' is not defined",
     "output_type": "error",
     "traceback": [
      "\u001b[1;31m---------------------------------------------------------------------------\u001b[0m",
      "\u001b[1;31mNameError\u001b[0m                                 Traceback (most recent call last)",
      "\u001b[1;32m<ipython-input-1-acc728563b1d>\u001b[0m in \u001b[0;36m<module>\u001b[1;34m\u001b[0m\n\u001b[0;32m      1\u001b[0m \u001b[0mprint\u001b[0m\u001b[1;33m(\u001b[0m\u001b[1;34m'Active features:'\u001b[0m\u001b[1;33m)\u001b[0m\u001b[1;33m\u001b[0m\u001b[1;33m\u001b[0m\u001b[0m\n\u001b[1;32m----> 2\u001b[1;33m \u001b[1;32mfor\u001b[0m \u001b[0mcls\u001b[0m\u001b[1;33m,\u001b[0m \u001b[0mfeatures\u001b[0m \u001b[1;32min\u001b[0m \u001b[0msix\u001b[0m\u001b[1;33m.\u001b[0m\u001b[0miteritems\u001b[0m\u001b[1;33m(\u001b[0m\u001b[0mextractor\u001b[0m\u001b[1;33m.\u001b[0m\u001b[0menabledFeatures\u001b[0m\u001b[1;33m)\u001b[0m\u001b[1;33m:\u001b[0m\u001b[1;33m\u001b[0m\u001b[1;33m\u001b[0m\u001b[0m\n\u001b[0m\u001b[0;32m      3\u001b[0m     \u001b[1;32mif\u001b[0m \u001b[0mlen\u001b[0m\u001b[1;33m(\u001b[0m\u001b[0mfeatures\u001b[0m\u001b[1;33m)\u001b[0m \u001b[1;33m==\u001b[0m \u001b[1;36m0\u001b[0m\u001b[1;33m:\u001b[0m\u001b[1;33m\u001b[0m\u001b[1;33m\u001b[0m\u001b[0m\n\u001b[0;32m      4\u001b[0m         \u001b[0mfeatures\u001b[0m \u001b[1;33m=\u001b[0m \u001b[1;33m[\u001b[0m\u001b[0mf\u001b[0m \u001b[1;32mfor\u001b[0m \u001b[0mf\u001b[0m\u001b[1;33m,\u001b[0m \u001b[0mdeprecated\u001b[0m \u001b[1;32min\u001b[0m \u001b[0msix\u001b[0m\u001b[1;33m.\u001b[0m\u001b[0miteritems\u001b[0m\u001b[1;33m(\u001b[0m\u001b[0mfeatureClasses\u001b[0m\u001b[1;33m[\u001b[0m\u001b[0mcls\u001b[0m\u001b[1;33m]\u001b[0m\u001b[1;33m.\u001b[0m\u001b[0mgetFeatureNames\u001b[0m\u001b[1;33m(\u001b[0m\u001b[1;33m)\u001b[0m\u001b[1;33m)\u001b[0m \u001b[1;32mif\u001b[0m \u001b[1;32mnot\u001b[0m \u001b[0mdeprecated\u001b[0m\u001b[1;33m]\u001b[0m\u001b[1;33m\u001b[0m\u001b[1;33m\u001b[0m\u001b[0m\n\u001b[0;32m      5\u001b[0m     \u001b[1;32mfor\u001b[0m \u001b[0mf\u001b[0m \u001b[1;32min\u001b[0m \u001b[0mfeatures\u001b[0m\u001b[1;33m:\u001b[0m\u001b[1;33m\u001b[0m\u001b[1;33m\u001b[0m\u001b[0m\n",
      "\u001b[1;31mNameError\u001b[0m: name 'six' is not defined"
     ]
    }
   ],
   "source": [
    "print('Active features:')\n",
    "for cls, features in six.iteritems(extractor.enabledFeatures):\n",
    "    if len(features) == 0:\n",
    "        features = [f for f, deprecated in six.iteritems(featureClasses[cls].getFeatureNames()) if not deprecated]\n",
    "    for f in features:\n",
    "        print(f)\n",
    "        print(getattr(featureClasses[cls], 'get%sFeatureValue' % f).__doc__)"
   ]
  },
  {
   "cell_type": "markdown",
   "metadata": {},
   "source": [
    "## Calculating the values of the active features"
   ]
  },
  {
   "cell_type": "code",
   "execution_count": 21,
   "metadata": {},
   "outputs": [
    {
     "name": "stdout",
     "output_type": "stream",
     "text": [
      "Calculating features\n"
     ]
    }
   ],
   "source": [
    "print('Calculating features')\n",
    "featureVector = extractor.execute(imageName, maskName)"
   ]
  },
  {
   "cell_type": "code",
   "execution_count": 22,
   "metadata": {},
   "outputs": [
    {
     "name": "stdout",
     "output_type": "stream",
     "text": [
      "Computed diagnostics_Versions_PyRadiomics: 2.1.2.post68.dev0+g590d9fe\n",
      "Computed diagnostics_Versions_Numpy: 1.15.1\n",
      "Computed diagnostics_Versions_SimpleITK: 0.9.1\n",
      "Computed diagnostics_Versions_PyWavelet: 0.5.2\n",
      "Computed diagnostics_Versions_Python: 2.7.11\n",
      "Computed diagnostics_Configuration_Settings: {'distances': [1], 'verbose': True, 'additionalInfo': True, 'force2D': False, 'interpolator': 'sitkBSpline', 'resampledPixelSpacing': None, 'label': 1, 'normalizeScale': 1, 'normalize': False, 'force2Ddimension': 0, 'removeOutliers': None, 'minimumROISize': None, 'binWidth': 25, 'minimumROIDimensions': 2, 'preCrop': False, 'resegmentRange': None, 'padDistance': 5}\n",
      "Computed diagnostics_Configuration_EnabledImageTypes: {'Original': {}}\n",
      "Computed diagnostics_Image-original_Hash: 5c9ce3ca174f0f8324aa4d277e0fef82dc5ac566\n",
      "Computed diagnostics_Image-original_Dimensionality: 3D\n",
      "Computed diagnostics_Image-original_Spacing: (0.7812499999999999, 0.7812499999999999, 6.499999999999998)\n",
      "Computed diagnostics_Image-original_Size: (256, 256, 25)\n",
      "Computed diagnostics_Image-original_Mean: 385.6564080810547\n",
      "Computed diagnostics_Image-original_Minimum: 0.0\n",
      "Computed diagnostics_Image-original_Maximum: 3057.0\n",
      "Computed diagnostics_Mask-original_Hash: 9dc2c3137b31fd872997d92c9a92d5178126d9d3\n",
      "Computed diagnostics_Mask-original_Spacing: (0.7812499999999999, 0.7812499999999999, 6.499999999999998)\n",
      "Computed diagnostics_Mask-original_Size: (256, 256, 25)\n",
      "Computed diagnostics_Mask-original_BoundingBox: (162, 84, 11, 47, 70, 7)\n",
      "Computed diagnostics_Mask-original_VoxelNum: 4137\n",
      "Computed diagnostics_Mask-original_VolumeNum: 2\n",
      "Computed diagnostics_Mask-original_CenterOfMassIndex: (186.98549673676578, 106.3562968334542, 14.38917089678511)\n",
      "Computed diagnostics_Mask-original_CenterOfMass: (46.47304432559825, 16.518518098863908, 15.529610829103234)\n",
      "Computed original_firstorder_InterquartileRange: 253.0\n",
      "Computed original_firstorder_Skewness: 0.27565085908587594\n",
      "Computed original_firstorder_Uniformity: 0.045156963555862184\n",
      "Computed original_firstorder_Median: 812.0\n",
      "Computed original_firstorder_Energy: 2918821481.0\n",
      "Computed original_firstorder_RobustMeanAbsoluteDeviation: 103.00138343026683\n",
      "Computed original_firstorder_MeanAbsoluteDeviation: 133.44726195252767\n",
      "Computed original_firstorder_TotalEnergy: 11579797135.314934\n",
      "Computed original_firstorder_Maximum: 1266.0\n",
      "Computed original_firstorder_RootMeanSquared: 839.9646448180755\n",
      "Computed original_firstorder_90Percentile: 1044.4\n",
      "Computed original_firstorder_Minimum: 468.0\n",
      "Computed original_firstorder_Entropy: 4.601935553903786\n",
      "Computed original_firstorder_Range: 798.0\n",
      "Computed original_firstorder_Variance: 24527.07920837261\n",
      "Computed original_firstorder_10Percentile: 632.0\n",
      "Computed original_firstorder_Kurtosis: 2.1807729393860265\n",
      "Computed original_firstorder_Mean: 825.2354363065023\n"
     ]
    }
   ],
   "source": [
    "# Show output\n",
    "for featureName in featureVector.keys():\n",
    "    print('Computed %s: %s' % (featureName, featureVector[featureName]))"
   ]
  }
 ],
 "metadata": {
  "kernelspec": {
   "display_name": "Python 3",
   "language": "python",
   "name": "python3"
  },
  "language_info": {
   "codemirror_mode": {
    "name": "ipython",
    "version": 3
   },
   "file_extension": ".py",
   "mimetype": "text/x-python",
   "name": "python",
   "nbconvert_exporter": "python",
   "pygments_lexer": "ipython3",
   "version": "3.7.6"
  }
 },
 "nbformat": 4,
 "nbformat_minor": 1
}
